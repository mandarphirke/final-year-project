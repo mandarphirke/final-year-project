{
  "cells": [
    {
      "cell_type": "code",
      "execution_count": 1,
      "id": "23016cb8",
      "metadata": {
        "id": "23016cb8"
      },
      "outputs": [],
      "source": [
        "import pandas as pd   \n",
        "import numpy as np    \n",
        "import matplotlib.pyplot as plt \n",
        "%matplotlib inline\n",
        "%config InlineBackend.figure_formats = ['retina']\n",
        "import seaborn as sns\n",
        "import time\n",
        "import warnings\n",
        "warnings.filterwarnings(\"ignore\")\n",
        "from sklearn.model_selection import KFold, cross_val_score, GridSearchCV, StratifiedKFold\n",
        "from sklearn.linear_model import LogisticRegression\n",
        "from sklearn.neighbors import KNeighborsClassifier\n",
        "from sklearn.naive_bayes import GaussianNB, BernoulliNB, MultinomialNB\n",
        "from sklearn.tree import DecisionTreeClassifier\n",
        "from sklearn.ensemble import RandomForestClassifier\n",
        "from sklearn.svm import LinearSVC, SVC\n",
        "from sklearn import metrics\n",
        "from sklearn.metrics import confusion_matrix, classification_report\n",
        "from sklearn.metrics import accuracy_score, precision_score, recall_score, f1_score, log_loss\n",
        "from sklearn.metrics import auc, roc_curve, roc_auc_score, precision_recall_curve\n",
        "from sklearn.metrics import fbeta_score, cohen_kappa_score\n",
        "SEED = 42"
      ]
    },
    {
      "cell_type": "code",
      "execution_count": 2,
      "id": "96356f15",
      "metadata": {
        "colab": {
          "base_uri": "https://localhost:8080/",
          "height": 423
        },
        "id": "96356f15",
        "outputId": "8ff679ee-3c2f-4dbc-c54f-dfd7bc93c2c0"
      },
      "outputs": [
        {
          "output_type": "execute_result",
          "data": {
            "text/plain": [
              "       BQ  ESS       BMI  Weight  Height  Head  Neck  Waist  Buttock  Age  M  \\\n",
              "0       0   14  29.06593      88     174  57.5    39     96      106   20  1   \n",
              "1       0    8  26.98962      78     170  57.0    36     90      100   20  1   \n",
              "2       0   16  23.93948      75     177  59.0    39     88      104   20  1   \n",
              "3       0   15  22.12974      67     174  57.0    35     74       94   20  1   \n",
              "4       0   15  22.12974      67     174  57.0    35     74       94   20  1   \n",
              "...    ..  ...       ...     ...     ...   ...   ...    ...      ...  ... ..   \n",
              "11531   0   16  29.48650      99     183  57.1    42    111      109   56  1   \n",
              "11532   0   11  25.07382      66     162  55.1    36     91       96   61  1   \n",
              "11533   0    6  28.66613      96     183  58.0    39     99      108   36  1   \n",
              "11534   0   15  28.73175      85     172  60.2    40    103      105   63  1   \n",
              "11535   0    1  45.26355     140     176  61.0    46    146      132   43  1   \n",
              "\n",
              "       status  \n",
              "0           0  \n",
              "1           0  \n",
              "2           0  \n",
              "3           0  \n",
              "4           0  \n",
              "...       ...  \n",
              "11531       3  \n",
              "11532       3  \n",
              "11533       3  \n",
              "11534       3  \n",
              "11535       3  \n",
              "\n",
              "[11536 rows x 12 columns]"
            ],
            "text/html": [
              "\n",
              "  <div id=\"df-d41b4a37-f688-4da2-88d1-f2c2f40f48ab\">\n",
              "    <div class=\"colab-df-container\">\n",
              "      <div>\n",
              "<style scoped>\n",
              "    .dataframe tbody tr th:only-of-type {\n",
              "        vertical-align: middle;\n",
              "    }\n",
              "\n",
              "    .dataframe tbody tr th {\n",
              "        vertical-align: top;\n",
              "    }\n",
              "\n",
              "    .dataframe thead th {\n",
              "        text-align: right;\n",
              "    }\n",
              "</style>\n",
              "<table border=\"1\" class=\"dataframe\">\n",
              "  <thead>\n",
              "    <tr style=\"text-align: right;\">\n",
              "      <th></th>\n",
              "      <th>BQ</th>\n",
              "      <th>ESS</th>\n",
              "      <th>BMI</th>\n",
              "      <th>Weight</th>\n",
              "      <th>Height</th>\n",
              "      <th>Head</th>\n",
              "      <th>Neck</th>\n",
              "      <th>Waist</th>\n",
              "      <th>Buttock</th>\n",
              "      <th>Age</th>\n",
              "      <th>M</th>\n",
              "      <th>status</th>\n",
              "    </tr>\n",
              "  </thead>\n",
              "  <tbody>\n",
              "    <tr>\n",
              "      <th>0</th>\n",
              "      <td>0</td>\n",
              "      <td>14</td>\n",
              "      <td>29.06593</td>\n",
              "      <td>88</td>\n",
              "      <td>174</td>\n",
              "      <td>57.5</td>\n",
              "      <td>39</td>\n",
              "      <td>96</td>\n",
              "      <td>106</td>\n",
              "      <td>20</td>\n",
              "      <td>1</td>\n",
              "      <td>0</td>\n",
              "    </tr>\n",
              "    <tr>\n",
              "      <th>1</th>\n",
              "      <td>0</td>\n",
              "      <td>8</td>\n",
              "      <td>26.98962</td>\n",
              "      <td>78</td>\n",
              "      <td>170</td>\n",
              "      <td>57.0</td>\n",
              "      <td>36</td>\n",
              "      <td>90</td>\n",
              "      <td>100</td>\n",
              "      <td>20</td>\n",
              "      <td>1</td>\n",
              "      <td>0</td>\n",
              "    </tr>\n",
              "    <tr>\n",
              "      <th>2</th>\n",
              "      <td>0</td>\n",
              "      <td>16</td>\n",
              "      <td>23.93948</td>\n",
              "      <td>75</td>\n",
              "      <td>177</td>\n",
              "      <td>59.0</td>\n",
              "      <td>39</td>\n",
              "      <td>88</td>\n",
              "      <td>104</td>\n",
              "      <td>20</td>\n",
              "      <td>1</td>\n",
              "      <td>0</td>\n",
              "    </tr>\n",
              "    <tr>\n",
              "      <th>3</th>\n",
              "      <td>0</td>\n",
              "      <td>15</td>\n",
              "      <td>22.12974</td>\n",
              "      <td>67</td>\n",
              "      <td>174</td>\n",
              "      <td>57.0</td>\n",
              "      <td>35</td>\n",
              "      <td>74</td>\n",
              "      <td>94</td>\n",
              "      <td>20</td>\n",
              "      <td>1</td>\n",
              "      <td>0</td>\n",
              "    </tr>\n",
              "    <tr>\n",
              "      <th>4</th>\n",
              "      <td>0</td>\n",
              "      <td>15</td>\n",
              "      <td>22.12974</td>\n",
              "      <td>67</td>\n",
              "      <td>174</td>\n",
              "      <td>57.0</td>\n",
              "      <td>35</td>\n",
              "      <td>74</td>\n",
              "      <td>94</td>\n",
              "      <td>20</td>\n",
              "      <td>1</td>\n",
              "      <td>0</td>\n",
              "    </tr>\n",
              "    <tr>\n",
              "      <th>...</th>\n",
              "      <td>...</td>\n",
              "      <td>...</td>\n",
              "      <td>...</td>\n",
              "      <td>...</td>\n",
              "      <td>...</td>\n",
              "      <td>...</td>\n",
              "      <td>...</td>\n",
              "      <td>...</td>\n",
              "      <td>...</td>\n",
              "      <td>...</td>\n",
              "      <td>...</td>\n",
              "      <td>...</td>\n",
              "    </tr>\n",
              "    <tr>\n",
              "      <th>11531</th>\n",
              "      <td>0</td>\n",
              "      <td>16</td>\n",
              "      <td>29.48650</td>\n",
              "      <td>99</td>\n",
              "      <td>183</td>\n",
              "      <td>57.1</td>\n",
              "      <td>42</td>\n",
              "      <td>111</td>\n",
              "      <td>109</td>\n",
              "      <td>56</td>\n",
              "      <td>1</td>\n",
              "      <td>3</td>\n",
              "    </tr>\n",
              "    <tr>\n",
              "      <th>11532</th>\n",
              "      <td>0</td>\n",
              "      <td>11</td>\n",
              "      <td>25.07382</td>\n",
              "      <td>66</td>\n",
              "      <td>162</td>\n",
              "      <td>55.1</td>\n",
              "      <td>36</td>\n",
              "      <td>91</td>\n",
              "      <td>96</td>\n",
              "      <td>61</td>\n",
              "      <td>1</td>\n",
              "      <td>3</td>\n",
              "    </tr>\n",
              "    <tr>\n",
              "      <th>11533</th>\n",
              "      <td>0</td>\n",
              "      <td>6</td>\n",
              "      <td>28.66613</td>\n",
              "      <td>96</td>\n",
              "      <td>183</td>\n",
              "      <td>58.0</td>\n",
              "      <td>39</td>\n",
              "      <td>99</td>\n",
              "      <td>108</td>\n",
              "      <td>36</td>\n",
              "      <td>1</td>\n",
              "      <td>3</td>\n",
              "    </tr>\n",
              "    <tr>\n",
              "      <th>11534</th>\n",
              "      <td>0</td>\n",
              "      <td>15</td>\n",
              "      <td>28.73175</td>\n",
              "      <td>85</td>\n",
              "      <td>172</td>\n",
              "      <td>60.2</td>\n",
              "      <td>40</td>\n",
              "      <td>103</td>\n",
              "      <td>105</td>\n",
              "      <td>63</td>\n",
              "      <td>1</td>\n",
              "      <td>3</td>\n",
              "    </tr>\n",
              "    <tr>\n",
              "      <th>11535</th>\n",
              "      <td>0</td>\n",
              "      <td>1</td>\n",
              "      <td>45.26355</td>\n",
              "      <td>140</td>\n",
              "      <td>176</td>\n",
              "      <td>61.0</td>\n",
              "      <td>46</td>\n",
              "      <td>146</td>\n",
              "      <td>132</td>\n",
              "      <td>43</td>\n",
              "      <td>1</td>\n",
              "      <td>3</td>\n",
              "    </tr>\n",
              "  </tbody>\n",
              "</table>\n",
              "<p>11536 rows × 12 columns</p>\n",
              "</div>\n",
              "      <button class=\"colab-df-convert\" onclick=\"convertToInteractive('df-d41b4a37-f688-4da2-88d1-f2c2f40f48ab')\"\n",
              "              title=\"Convert this dataframe to an interactive table.\"\n",
              "              style=\"display:none;\">\n",
              "        \n",
              "  <svg xmlns=\"http://www.w3.org/2000/svg\" height=\"24px\"viewBox=\"0 0 24 24\"\n",
              "       width=\"24px\">\n",
              "    <path d=\"M0 0h24v24H0V0z\" fill=\"none\"/>\n",
              "    <path d=\"M18.56 5.44l.94 2.06.94-2.06 2.06-.94-2.06-.94-.94-2.06-.94 2.06-2.06.94zm-11 1L8.5 8.5l.94-2.06 2.06-.94-2.06-.94L8.5 2.5l-.94 2.06-2.06.94zm10 10l.94 2.06.94-2.06 2.06-.94-2.06-.94-.94-2.06-.94 2.06-2.06.94z\"/><path d=\"M17.41 7.96l-1.37-1.37c-.4-.4-.92-.59-1.43-.59-.52 0-1.04.2-1.43.59L10.3 9.45l-7.72 7.72c-.78.78-.78 2.05 0 2.83L4 21.41c.39.39.9.59 1.41.59.51 0 1.02-.2 1.41-.59l7.78-7.78 2.81-2.81c.8-.78.8-2.07 0-2.86zM5.41 20L4 18.59l7.72-7.72 1.47 1.35L5.41 20z\"/>\n",
              "  </svg>\n",
              "      </button>\n",
              "      \n",
              "  <style>\n",
              "    .colab-df-container {\n",
              "      display:flex;\n",
              "      flex-wrap:wrap;\n",
              "      gap: 12px;\n",
              "    }\n",
              "\n",
              "    .colab-df-convert {\n",
              "      background-color: #E8F0FE;\n",
              "      border: none;\n",
              "      border-radius: 50%;\n",
              "      cursor: pointer;\n",
              "      display: none;\n",
              "      fill: #1967D2;\n",
              "      height: 32px;\n",
              "      padding: 0 0 0 0;\n",
              "      width: 32px;\n",
              "    }\n",
              "\n",
              "    .colab-df-convert:hover {\n",
              "      background-color: #E2EBFA;\n",
              "      box-shadow: 0px 1px 2px rgba(60, 64, 67, 0.3), 0px 1px 3px 1px rgba(60, 64, 67, 0.15);\n",
              "      fill: #174EA6;\n",
              "    }\n",
              "\n",
              "    [theme=dark] .colab-df-convert {\n",
              "      background-color: #3B4455;\n",
              "      fill: #D2E3FC;\n",
              "    }\n",
              "\n",
              "    [theme=dark] .colab-df-convert:hover {\n",
              "      background-color: #434B5C;\n",
              "      box-shadow: 0px 1px 3px 1px rgba(0, 0, 0, 0.15);\n",
              "      filter: drop-shadow(0px 1px 2px rgba(0, 0, 0, 0.3));\n",
              "      fill: #FFFFFF;\n",
              "    }\n",
              "  </style>\n",
              "\n",
              "      <script>\n",
              "        const buttonEl =\n",
              "          document.querySelector('#df-d41b4a37-f688-4da2-88d1-f2c2f40f48ab button.colab-df-convert');\n",
              "        buttonEl.style.display =\n",
              "          google.colab.kernel.accessAllowed ? 'block' : 'none';\n",
              "\n",
              "        async function convertToInteractive(key) {\n",
              "          const element = document.querySelector('#df-d41b4a37-f688-4da2-88d1-f2c2f40f48ab');\n",
              "          const dataTable =\n",
              "            await google.colab.kernel.invokeFunction('convertToInteractive',\n",
              "                                                     [key], {});\n",
              "          if (!dataTable) return;\n",
              "\n",
              "          const docLinkHtml = 'Like what you see? Visit the ' +\n",
              "            '<a target=\"_blank\" href=https://colab.research.google.com/notebooks/data_table.ipynb>data table notebook</a>'\n",
              "            + ' to learn more about interactive tables.';\n",
              "          element.innerHTML = '';\n",
              "          dataTable['output_type'] = 'display_data';\n",
              "          await google.colab.output.renderOutput(dataTable, element);\n",
              "          const docLink = document.createElement('div');\n",
              "          docLink.innerHTML = docLinkHtml;\n",
              "          element.appendChild(docLink);\n",
              "        }\n",
              "      </script>\n",
              "    </div>\n",
              "  </div>\n",
              "  "
            ]
          },
          "metadata": {},
          "execution_count": 2
        }
      ],
      "source": [
        "df=pd.read_excel('sample.xlsx')  \n",
        "df"
      ]
    },
    {
      "cell_type": "code",
      "execution_count": 3,
      "id": "b67377c4",
      "metadata": {
        "id": "b67377c4"
      },
      "outputs": [],
      "source": [
        "column = df[\"BQ\"]"
      ]
    },
    {
      "cell_type": "code",
      "execution_count": 4,
      "id": "74e21a9c",
      "metadata": {
        "colab": {
          "base_uri": "https://localhost:8080/"
        },
        "id": "74e21a9c",
        "outputId": "a2519933-52d1-4526-d2e4-c0021b553ef0"
      },
      "outputs": [
        {
          "output_type": "stream",
          "name": "stdout",
          "text": [
            "1\n"
          ]
        }
      ],
      "source": [
        "max_value = column. max()\n",
        "print(max_value)"
      ]
    },
    {
      "cell_type": "code",
      "execution_count": 5,
      "id": "750287b7",
      "metadata": {
        "colab": {
          "base_uri": "https://localhost:8080/"
        },
        "id": "750287b7",
        "outputId": "bffcfa57-00f5-4128-bfbc-1b88fb543138"
      },
      "outputs": [
        {
          "output_type": "stream",
          "name": "stdout",
          "text": [
            "0\n"
          ]
        }
      ],
      "source": [
        "min_value = column. min()\n",
        "print(min_value)"
      ]
    },
    {
      "cell_type": "code",
      "execution_count": 6,
      "id": "47c6f37b",
      "metadata": {
        "colab": {
          "base_uri": "https://localhost:8080/"
        },
        "id": "47c6f37b",
        "outputId": "d9677d49-7fb4-4f10-cd18-08e02f7a9e9e"
      },
      "outputs": [
        {
          "output_type": "stream",
          "name": "stdout",
          "text": [
            "48\n",
            "0\n"
          ]
        }
      ],
      "source": [
        "column = df[\"ESS\"]\n",
        "max_value = column. max()\n",
        "print(max_value)\n",
        "min_value = column. min()\n",
        "print(min_value)"
      ]
    },
    {
      "cell_type": "code",
      "execution_count": 7,
      "id": "e2c43b03",
      "metadata": {
        "colab": {
          "base_uri": "https://localhost:8080/"
        },
        "id": "e2c43b03",
        "outputId": "d6776e58-902b-4cf8-c199-336e5be89215"
      },
      "outputs": [
        {
          "output_type": "stream",
          "name": "stdout",
          "text": [
            "59.63731\n",
            "14.7655\n"
          ]
        }
      ],
      "source": [
        "column = df[\"BMI\"]\n",
        "max_value = column. max()\n",
        "print(max_value)\n",
        "min_value = column. min()\n",
        "print(min_value)"
      ]
    },
    {
      "cell_type": "code",
      "execution_count": 8,
      "id": "383cbba5",
      "metadata": {
        "colab": {
          "base_uri": "https://localhost:8080/"
        },
        "id": "383cbba5",
        "outputId": "a7fb0d7d-25e1-44fc-ff4d-995c7d4baf8f"
      },
      "outputs": [
        {
          "output_type": "stream",
          "name": "stdout",
          "text": [
            "161\n",
            "37\n"
          ]
        }
      ],
      "source": [
        "column = df[\"Weight\"]\n",
        "max_value = column. max()\n",
        "print(max_value)\n",
        "min_value = column. min()\n",
        "print(min_value)"
      ]
    },
    {
      "cell_type": "code",
      "execution_count": 9,
      "id": "f9471736",
      "metadata": {
        "colab": {
          "base_uri": "https://localhost:8080/"
        },
        "id": "f9471736",
        "outputId": "75cec04f-d255-42df-b4fb-1df8b128327f"
      },
      "outputs": [
        {
          "output_type": "stream",
          "name": "stdout",
          "text": [
            "198\n",
            "140\n"
          ]
        }
      ],
      "source": [
        "column = df[\"Height\"]\n",
        "max_value = column. max()\n",
        "print(max_value)\n",
        "min_value = column. min()\n",
        "print(min_value)"
      ]
    },
    {
      "cell_type": "code",
      "execution_count": 10,
      "id": "abf06e0e",
      "metadata": {
        "colab": {
          "base_uri": "https://localhost:8080/"
        },
        "id": "abf06e0e",
        "outputId": "1e678707-963e-4cab-e776-a1e7b7008296"
      },
      "outputs": [
        {
          "output_type": "stream",
          "name": "stdout",
          "text": [
            "66.0\n",
            "47.0\n"
          ]
        }
      ],
      "source": [
        "column = df[\"Head\"]\n",
        "max_value = column. max()\n",
        "print(max_value)\n",
        "min_value = column. min()\n",
        "print(min_value)"
      ]
    },
    {
      "cell_type": "code",
      "execution_count": 11,
      "id": "30af6385",
      "metadata": {
        "colab": {
          "base_uri": "https://localhost:8080/"
        },
        "id": "30af6385",
        "outputId": "ef27c06d-a10c-4eb0-9791-6b59e08c0e83"
      },
      "outputs": [
        {
          "output_type": "stream",
          "name": "stdout",
          "text": [
            "57\n",
            "26\n"
          ]
        }
      ],
      "source": [
        "column = df[\"Neck\"]\n",
        "max_value = column. max()\n",
        "print(max_value)\n",
        "min_value = column. min()\n",
        "print(min_value)"
      ]
    },
    {
      "cell_type": "code",
      "execution_count": 12,
      "id": "d4e56d4d",
      "metadata": {
        "colab": {
          "base_uri": "https://localhost:8080/"
        },
        "id": "d4e56d4d",
        "outputId": "b42b448e-cd9d-4ba8-9302-da4e40aab5fb"
      },
      "outputs": [
        {
          "output_type": "stream",
          "name": "stdout",
          "text": [
            "156\n",
            "56\n"
          ]
        }
      ],
      "source": [
        "column = df[\"Waist\"]\n",
        "max_value = column. max()\n",
        "print(max_value)\n",
        "min_value = column. min()\n",
        "print(min_value)"
      ]
    },
    {
      "cell_type": "code",
      "execution_count": 13,
      "id": "1865b6dd",
      "metadata": {
        "colab": {
          "base_uri": "https://localhost:8080/"
        },
        "id": "1865b6dd",
        "outputId": "aa61d71b-9c6b-4bff-b561-a6318ec7640f"
      },
      "outputs": [
        {
          "output_type": "stream",
          "name": "stdout",
          "text": [
            "150\n",
            "70\n"
          ]
        }
      ],
      "source": [
        "column = df[\"Buttock\"]\n",
        "max_value = column. max()\n",
        "print(max_value)\n",
        "min_value = column. min()\n",
        "print(min_value)"
      ]
    },
    {
      "cell_type": "code",
      "execution_count": 14,
      "id": "0eaa777d",
      "metadata": {
        "colab": {
          "base_uri": "https://localhost:8080/"
        },
        "id": "0eaa777d",
        "outputId": "28abf16b-978f-4df5-dd83-19f91b95f136"
      },
      "outputs": [
        {
          "output_type": "stream",
          "name": "stdout",
          "text": [
            "80\n",
            "20\n"
          ]
        }
      ],
      "source": [
        "column = df[\"Age\"]\n",
        "max_value = column. max()\n",
        "print(max_value)\n",
        "min_value = column. min()\n",
        "print(min_value)"
      ]
    },
    {
      "cell_type": "code",
      "execution_count": 15,
      "id": "3eb35384",
      "metadata": {
        "colab": {
          "base_uri": "https://localhost:8080/"
        },
        "id": "3eb35384",
        "outputId": "35f078b6-6bfa-44b8-b47a-c650d696f7aa"
      },
      "outputs": [
        {
          "output_type": "stream",
          "name": "stdout",
          "text": [
            "1\n",
            "0\n"
          ]
        }
      ],
      "source": [
        "column = df[\"M\"]\n",
        "max_value = column. max()\n",
        "print(max_value)\n",
        "min_value = column. min()\n",
        "print(min_value)"
      ]
    },
    {
      "cell_type": "code",
      "execution_count": 16,
      "id": "3d7c10bd",
      "metadata": {
        "colab": {
          "base_uri": "https://localhost:8080/"
        },
        "id": "3d7c10bd",
        "outputId": "b43344d3-7bcd-4f23-dfa2-75ecc5992da7"
      },
      "outputs": [
        {
          "output_type": "stream",
          "name": "stdout",
          "text": [
            "3\n",
            "0\n"
          ]
        }
      ],
      "source": [
        "column = df[\"status\"]\n",
        "max_value = column. max()\n",
        "print(max_value)\n",
        "min_value = column. min()\n",
        "print(min_value)"
      ]
    },
    {
      "cell_type": "code",
      "execution_count": null,
      "id": "3d303485",
      "metadata": {
        "id": "3d303485"
      },
      "outputs": [],
      "source": []
    }
  ],
  "metadata": {
    "kernelspec": {
      "display_name": "Python 3 (ipykernel)",
      "language": "python",
      "name": "python3"
    },
    "language_info": {
      "codemirror_mode": {
        "name": "ipython",
        "version": 3
      },
      "file_extension": ".py",
      "mimetype": "text/x-python",
      "name": "python",
      "nbconvert_exporter": "python",
      "pygments_lexer": "ipython3",
      "version": "3.7.11"
    },
    "colab": {
      "provenance": []
    }
  },
  "nbformat": 4,
  "nbformat_minor": 5
}